{
 "cells": [
  {
   "cell_type": "code",
   "execution_count": 2,
   "metadata": {},
   "outputs": [],
   "source": [
    "from catthy import fun"
   ]
  },
  {
   "cell_type": "code",
   "execution_count": 5,
   "metadata": {},
   "outputs": [
    {
     "name": "stdout",
     "output_type": "stream",
     "text": [
      "agregarAdelante ['\\\\left\\\\langle{}1, 2, 3\\\\right\\\\rangle{}', '4'] Secuencia\n"
     ]
    },
    {
     "data": {
      "text/latex": [
       "$\\displaystyle 4 \\bullet{}\\left\\langle{}1, 2, 3\\right\\rangle{} \\bullet{}Secuencia$"
      ],
      "text/plain": [
       "<IPython.core.display.Math object>"
      ]
     },
     "metadata": {},
     "output_type": "display_data"
    }
   ],
   "source": [
    "from xpytex import latexify\n",
    "from xpytex.utils import displaymath\n",
    "\n",
    "displaymath( latexify('Secuencia.agregarAdelante(Secuencia.de(1,2,3), 4)') )"
   ]
  }
 ],
 "metadata": {
  "kernelspec": {
   "display_name": "Python 3",
   "language": "python",
   "name": "python3"
  },
  "language_info": {
   "codemirror_mode": {
    "name": "ipython",
    "version": 3
   },
   "file_extension": ".py",
   "mimetype": "text/x-python",
   "name": "python",
   "nbconvert_exporter": "python",
   "pygments_lexer": "ipython3",
   "version": "3.10.12"
  },
  "orig_nbformat": 4
 },
 "nbformat": 4,
 "nbformat_minor": 2
}
