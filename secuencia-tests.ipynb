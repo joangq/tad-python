{
 "cells": [
  {
   "cell_type": "code",
   "execution_count": 1,
   "metadata": {},
   "outputs": [],
   "source": [
    "from tad import TAD, observador, generador, operacion, axioma\n",
    "from secuencia import Secuencia, secuencia\n",
    "from rich import print as rprint\n",
    "\n",
    "def red(text): return f\"[bright_red]{text}[/]\"\n",
    "def green(text): return f\"[bright_green]{text}[/]\"\n",
    "def blue(text): return f\"[bright_blue]{text}[/]\"\n",
    "def yellow(text): return f\"[bright_yellow]{text}[/]\"\n"
   ]
  },
  {
   "cell_type": "code",
   "execution_count": 2,
   "metadata": {},
   "outputs": [],
   "source": [
    "def print(x):\n",
    "    if type(x) == bool:\n",
    "        rprint((green if x else red)(x))\n",
    "    else:\n",
    "        rprint(x)"
   ]
  },
  {
   "cell_type": "code",
   "execution_count": 3,
   "metadata": {},
   "outputs": [],
   "source": [
    "def catch(f: callable) -> None | Exception:\n",
    "    try: f()\n",
    "    except Exception as e: return e"
   ]
  },
  {
   "cell_type": "code",
   "execution_count": 4,
   "metadata": {},
   "outputs": [
    {
     "data": {
      "text/html": [
       "<pre style=\"white-space:pre;overflow-x:auto;line-height:normal;font-family:Menlo,'DejaVu Sans Mono',consolas,'Courier New',monospace\"><span style=\"color: #00ff00; text-decoration-color: #00ff00; font-style: italic\">True</span>\n",
       "</pre>\n"
      ],
      "text/plain": [
       "\u001b[3;92mTrue\u001b[0m\n"
      ]
     },
     "metadata": {},
     "output_type": "display_data"
    }
   ],
   "source": [
    "single_argument_tests = [[], [1], [1,2], [1,2,3], [x for x in range(10_000)]]\n",
    "\n",
    "# secuencia.ult([]) deberia dar un error\n",
    "ult_test_results = [isinstance(catch(lambda: secuencia.axioma_ult([])), IndexError)] + \\\n",
    "                    [secuencia.axioma_ult(x) for x in single_argument_tests[1:]]\n",
    "\n",
    "print(all(ult_test_results))"
   ]
  },
  {
   "cell_type": "code",
   "execution_count": 5,
   "metadata": {},
   "outputs": [
    {
     "data": {
      "text/html": [
       "<pre style=\"white-space:pre;overflow-x:auto;line-height:normal;font-family:Menlo,'DejaVu Sans Mono',consolas,'Courier New',monospace\"><span style=\"color: #00ff00; text-decoration-color: #00ff00; font-style: italic\">True</span>\n",
       "</pre>\n"
      ],
      "text/plain": [
       "\u001b[3;92mTrue\u001b[0m\n"
      ]
     },
     "metadata": {},
     "output_type": "display_data"
    }
   ],
   "source": [
    "long_test_results = [secuencia.axioma_long(x) for x in single_argument_tests]\n",
    "print(all(long_test_results))"
   ]
  },
  {
   "cell_type": "code",
   "execution_count": 6,
   "metadata": {},
   "outputs": [
    {
     "data": {
      "text/html": [
       "<pre style=\"white-space:pre;overflow-x:auto;line-height:normal;font-family:Menlo,'DejaVu Sans Mono',consolas,'Courier New',monospace\"><span style=\"color: #00ff00; text-decoration-color: #00ff00; font-style: italic\">True</span>\n",
       "</pre>\n"
      ],
      "text/plain": [
       "\u001b[3;92mTrue\u001b[0m\n"
      ]
     },
     "metadata": {},
     "output_type": "display_data"
    }
   ],
   "source": [
    "esVacia_test_results = [secuencia.axioma_esVacia(x) for x in single_argument_tests]\n",
    "print(all(esVacia_test_results))"
   ]
  },
  {
   "cell_type": "code",
   "execution_count": 7,
   "metadata": {},
   "outputs": [
    {
     "data": {
      "text/html": [
       "<pre style=\"white-space:pre;overflow-x:auto;line-height:normal;font-family:Menlo,'DejaVu Sans Mono',consolas,'Courier New',monospace\"><span style=\"color: #00ff00; text-decoration-color: #00ff00; font-style: italic\">True</span>\n",
       "</pre>\n"
      ],
      "text/plain": [
       "\u001b[3;92mTrue\u001b[0m\n"
      ]
     },
     "metadata": {},
     "output_type": "display_data"
    }
   ],
   "source": [
    "fin_tests = [([], 1), ([1], 1), ([2], 1), ([1], 2), ([x for x in range(100)], 789)]\n",
    "\n",
    "fin_test_results = [secuencia.axioma_fin(*x) for x in fin_tests]\n",
    "print(all(fin_test_results))"
   ]
  },
  {
   "cell_type": "code",
   "execution_count": 8,
   "metadata": {},
   "outputs": [
    {
     "data": {
      "text/html": [
       "<pre style=\"white-space:pre;overflow-x:auto;line-height:normal;font-family:Menlo,'DejaVu Sans Mono',consolas,'Courier New',monospace\"><span style=\"color: #00ff00; text-decoration-color: #00ff00; font-style: italic\">True</span>\n",
       "</pre>\n"
      ],
      "text/plain": [
       "\u001b[3;92mTrue\u001b[0m\n"
      ]
     },
     "metadata": {},
     "output_type": "display_data"
    }
   ],
   "source": [
    "concatenar_tests = [([],[]), ([], [1]), ([1], []), ([1], [1]), ([1,2,3,4], [5,6,7,8,9]), \n",
    "                    ([x for x in range(10_000)], [y for y in range(10_001, 20_000, 1)])]\n",
    "\n",
    "concatenar_test_results = [secuencia.axioma_concatenar(*x) for x in concatenar_tests]\n",
    "print(all(concatenar_test_results))"
   ]
  },
  {
   "cell_type": "code",
   "execution_count": 9,
   "metadata": {},
   "outputs": [
    {
     "data": {
      "text/html": [
       "<pre style=\"white-space:pre;overflow-x:auto;line-height:normal;font-family:Menlo,'DejaVu Sans Mono',consolas,'Courier New',monospace\"><span style=\"color: #00ff00; text-decoration-color: #00ff00; font-style: italic\">True</span>\n",
       "</pre>\n"
      ],
      "text/plain": [
       "\u001b[3;92mTrue\u001b[0m\n"
      ]
     },
     "metadata": {},
     "output_type": "display_data"
    }
   ],
   "source": [
    "esta_tests = [([], 1), ([1], 2), ([x for x in range(100)], -1), ([1], 1), ([1,2], 2), ([x for x in range(100)], 55)]\n",
    "\n",
    "esta_test_results = [secuencia.axioma_esta(*x) for x in esta_tests]\n",
    "print(all(esta_test_results))"
   ]
  },
  {
   "cell_type": "code",
   "execution_count": 10,
   "metadata": {},
   "outputs": [
    {
     "data": {
      "text/html": [
       "<pre style=\"white-space:pre;overflow-x:auto;line-height:normal;font-family:Menlo,'DejaVu Sans Mono',consolas,'Courier New',monospace\"><span style=\"color: #00ff00; text-decoration-color: #00ff00; font-style: italic\">True</span>\n",
       "</pre>\n"
      ],
      "text/plain": [
       "\u001b[3;92mTrue\u001b[0m\n"
      ]
     },
     "metadata": {},
     "output_type": "display_data"
    }
   ],
   "source": [
    "prim_tests = [([], 1),([1], 1),([1,2], 1),([1,2,3], 1),([x for x in range(5, 10_000)], 1)]\n",
    "\n",
    "prim_test_results = [secuencia.axioma_prim(*x) for x in prim_tests]\n",
    "print(all(prim_test_results))"
   ]
  },
  {
   "cell_type": "code",
   "execution_count": 11,
   "metadata": {},
   "outputs": [
    {
     "data": {
      "text/html": [
       "<pre style=\"white-space:pre;overflow-x:auto;line-height:normal;font-family:Menlo,'DejaVu Sans Mono',consolas,'Courier New',monospace\"><span style=\"color: #00ff00; text-decoration-color: #00ff00; font-style: italic\">True</span>\n",
       "</pre>\n"
      ],
      "text/plain": [
       "\u001b[3;92mTrue\u001b[0m\n"
      ]
     },
     "metadata": {},
     "output_type": "display_data"
    }
   ],
   "source": [
    "agregarAtras_tests = [([], 3),([1,2], 3),([x for x in range(10_000)], 12_345),]\n",
    "\n",
    "agregarAtras_test_results = [secuencia.axioma_agregarAtras(*x) for x in agregarAtras_tests]\n",
    "print(all(agregarAtras_test_results))"
   ]
  }
 ],
 "metadata": {
  "kernelspec": {
   "display_name": "Python 3",
   "language": "python",
   "name": "python3"
  },
  "language_info": {
   "codemirror_mode": {
    "name": "ipython",
    "version": 3
   },
   "file_extension": ".py",
   "mimetype": "text/x-python",
   "name": "python",
   "nbconvert_exporter": "python",
   "pygments_lexer": "ipython3",
   "version": "3.10.12"
  },
  "orig_nbformat": 4
 },
 "nbformat": 4,
 "nbformat_minor": 2
}
