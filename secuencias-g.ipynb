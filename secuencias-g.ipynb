{
 "cells": [
  {
   "cell_type": "code",
   "execution_count": 1,
   "metadata": {},
   "outputs": [],
   "source": [
    "from __future__ import annotations\n",
    "from secuencia import Secuencia\n",
    "\n",
    "from typing import NamedTuple\n",
    "import inspect\n",
    "\n",
    "def parent_module(f: callable) -> str: return f.__qualname__.split('.')[0]\n",
    "\n",
    "def flatten(s):\n",
    "    result = []\n",
    "    for item in s:\n",
    "        if isinstance(item, list):\n",
    "            result.extend(flatten(item))\n",
    "        else:\n",
    "            result.append(item)\n",
    "    return result\n",
    "\n",
    "class Parametro(NamedTuple):\n",
    "    nombre: str\n",
    "    tipo: str\n",
    "\n",
    "class Funcion(NamedTuple):\n",
    "    nombre: str\n",
    "    parametros: list[Parametro]\n",
    "    resultado: str\n",
    "    codigo: list[str]\n",
    "\n",
    "    @staticmethod\n",
    "    def from_callable(f: callable) -> Funcion:\n",
    "        signatura = inspect.signature(f)\n",
    "        return Funcion(nombre=f.__name__, \n",
    "                       resultado=signatura.return_annotation,\n",
    "                       codigo=inspect.getsourcelines(f),\n",
    "                       parametros=[Parametro(k,v.annotation if v.kind != inspect._ParameterKind.VAR_POSITIONAL else f\"...{v.annotation}\") for k,v in \\\n",
    "                                   inspect.signature(f).parameters.items()],\n",
    "                        )"
   ]
  },
  {
   "cell_type": "code",
   "execution_count": 2,
   "metadata": {},
   "outputs": [],
   "source": [
    "# Depende de github.com/joangq/tad-latex/tad.sty\n",
    "class signaturas:\n",
    "    @classmethod\n",
    "    def latexify(cls, f: Funcion, symbol: str|None = None) -> str:\n",
    "        nombre = symbol or '$'+f.nombre+'$' if len(f.nombre) == 1 else rf'\\text{{{f.nombre}}}'\n",
    "        \n",
    "        resultado = f.resultado\n",
    "        parametros = [p.tipo for p in f.parametros] + [resultado]\n",
    "\n",
    "        for i,param in enumerate(parametros):\n",
    "            p = str(param)\n",
    "            if '...' in p:\n",
    "                p = p.replace('...', '')\n",
    "                p = rf'{p} $\\times\\dots\\times$ {p}'\n",
    "            parametros[i] = '{'+p+'}'\n",
    "        \n",
    "        return ''.join([rf'\\signature{{{nombre}}}', *parametros])\n",
    "        "
   ]
  },
  {
   "cell_type": "code",
   "execution_count": 3,
   "metadata": {},
   "outputs": [],
   "source": [
    "TAD_Secu = Secuencia.get_tad()"
   ]
  },
  {
   "cell_type": "code",
   "execution_count": 4,
   "metadata": {},
   "outputs": [],
   "source": [
    "from catthy import fun\n",
    "from xpytex.utils import displaymath"
   ]
  },
  {
   "cell_type": "code",
   "execution_count": 5,
   "metadata": {},
   "outputs": [],
   "source": [
    "def consume_multiple__(n, f, args, acc=None):\n",
    "    L = ((1 if acc is not None else 0)+len(args))\n",
    "    if L != n and L%(n-1) != 1: \n",
    "        raise Exception(f\"Incompatible length {L} for {n} args. Expected {L+1} or {L-1}.\")\n",
    "\n",
    "    if acc is not None:\n",
    "        offset = 0\n",
    "    else:\n",
    "        acc = args[0]\n",
    "        offset = 1\n",
    "\n",
    "    n = n-1\n",
    "    for i in range(offset, len(args)-n+1+offset, n):\n",
    "        acc = f(acc, *[args[i+j] for j in range(0,n)])\n",
    "    \n",
    "    return acc\n",
    "\n",
    "def consume_multiple(f, args, acc=None):\n",
    "    return consume_multiple__(len(inspect.signature(f).parameters), f, args, acc)\n",
    "\n",
    "#consume_multiple(lambda a,b,c: rf'({a}? {b} : {c})', '123' ,'3')"
   ]
  },
  {
   "cell_type": "code",
   "execution_count": 6,
   "metadata": {},
   "outputs": [],
   "source": [
    "def multop_to_varadic(multop, parent_module = None):\n",
    "    if not parent_module:\n",
    "        parent_module = parent_module(multop)\n",
    "    \n",
    "    def g(name: str, args: list[str], parent: list):\n",
    "        if name != multop.__name__: return ''\n",
    "        else:\n",
    "            if parent == parent_module:\n",
    "                return consume_multiple(multop, args)\n",
    "            else:\n",
    "                return consume_multiple(multop, args, parent)\n",
    "            \n",
    "    # @wraps also replaces __code__ with new varnames\n",
    "    g.__name__ = multop.__name__\n",
    "    g.__qualname__ = multop.__qualname__\n",
    "    g.__doc__ = multop.__doc__\n",
    "    g.__module__ = multop.__module__\n",
    "    g.__annotations__ = multop.__annotations__\n",
    "    g.__source__ = inspect.getsource(multop)\n",
    "    #g.__wrapped__ = multop\n",
    "\n",
    "    return g\n",
    "\n",
    "def grammar_multop_to_varadic(cls, binop: str):\n",
    "    return multop_to_varadic(getattr(cls, binop), getattr(cls, 'tad'))\n",
    "\n",
    "#def TernaryIfElse(a,b,c): return rf'({a}? {b} : {c})'\n",
    "#multop_to_varadic(TernaryIfElse, 'IfElse')('TernaryIfElse', ['1','2','3','4','5'], 'IfElse')"
   ]
  },
  {
   "cell_type": "code",
   "execution_count": 7,
   "metadata": {},
   "outputs": [],
   "source": [
    "def binop_to_varadic(binop, parent_module = None):\n",
    "    \"\"\"Converts a binary operator to a varadic one to match the latexify Function Call facade.\"\"\"\n",
    "    if not parent_module:\n",
    "        parent_module = parent_module(binop)\n",
    "        \n",
    "    def g(name, args, parent):\n",
    "        if name != binop.__name__: return ''\n",
    "        else:\n",
    "            if parent == parent_module:\n",
    "                return fun.foldl(binop, args)\n",
    "            else:\n",
    "                return fun.foldl(binop, args, parent)\n",
    "            \n",
    "    # @wraps also replaces __code__ with new varnames\n",
    "    g.__name__ = binop.__name__\n",
    "    g.__qualname__ = binop.__qualname__\n",
    "    g.__doc__ = binop.__doc__\n",
    "    g.__module__ = binop.__module__\n",
    "    g.__annotations__ = binop.__annotations__\n",
    "    g.__source__ = inspect.getsource(binop)\n",
    "    #g.__wrapped__ = binop\n",
    "    return g\n",
    "\n",
    "def grammar_binop_to_varadic(cls, binop: str):\n",
    "    return binop_to_varadic(getattr(cls, binop), getattr(cls, 'tad'))"
   ]
  },
  {
   "cell_type": "code",
   "execution_count": 8,
   "metadata": {},
   "outputs": [],
   "source": [
    "def unop_to_varadic(unop, parent_module = None):\n",
    "    \"\"\"Converts a unary operator to a varadic one to match the latexify Function Call facade.\"\"\"\n",
    "    if not parent_module:\n",
    "        parent_module = parent_module(unop)\n",
    "        \n",
    "    def g(name, args, parent):\n",
    "        if name != unop.__name__: return ''\n",
    "        if len(args) > 1:\n",
    "            raise TypeError(\"More than one argument in unary operator.\")\n",
    "        \n",
    "        if len(args) == 0:\n",
    "            return unop(parent)\n",
    "        else:\n",
    "            return unop(args[0])\n",
    "\n",
    "            \n",
    "    # @wraps also replaces __code__ with new varnames\n",
    "    g.__name__ = unop.__name__\n",
    "    g.__qualname__ = unop.__qualname__\n",
    "    g.__doc__ = unop.__doc__\n",
    "    g.__module__ = unop.__module__\n",
    "    g.__annotations__ = unop.__annotations__\n",
    "    g.__source__ = inspect.getsource(unop)\n",
    "    #g.__wrapped__ = unop\n",
    "    return g\n",
    "\n",
    "def grammar_unop_to_varadic(cls, unop: str):\n",
    "    return unop_to_varadic(getattr(cls, unop), getattr(cls, 'tad'))"
   ]
  },
  {
   "cell_type": "code",
   "execution_count": 9,
   "metadata": {},
   "outputs": [],
   "source": [
    "def varop_to_varadic(varop, parent_module = None):\n",
    "    \"\"\"Adapts a varadic single-argument operator to the latexify Function call facade\"\"\"\n",
    "    if not parent_module:\n",
    "        parent_module = parent_module(varop)\n",
    "        \n",
    "    def g(name, args, parent):\n",
    "        if name != varop.__name__: return ''\n",
    "        if parent != parent_module: return ''\n",
    "        return varop(*args)\n",
    "            \n",
    "    # @wraps also replaces __code__ with new varnames\n",
    "    g.__name__ = varop.__name__\n",
    "    g.__qualname__ = varop.__qualname__\n",
    "    g.__doc__ = varop.__doc__\n",
    "    g.__module__ = varop.__module__\n",
    "    g.__annotations__ = varop.__annotations__\n",
    "    g.__source__ = inspect.getsource(varop)\n",
    "    #g.__wrapped__ = varop\n",
    "    return g\n",
    "\n",
    "def grammar_varop_to_varadic(cls, varop: str):\n",
    "    return varop_to_varadic(getattr(cls, varop), getattr(cls, 'tad'))"
   ]
  },
  {
   "cell_type": "code",
   "execution_count": 10,
   "metadata": {},
   "outputs": [],
   "source": [
    "#TODO: Convert this into a decorator that converts the methods automatically.\n",
    "\n",
    "# for k,v in CLASS.__dict__.items():\n",
    "#     if v and isinstance(v, staticmethod):\n",
    "#         f = getattr(CLASS, k)\n",
    "#         ps = inspect.signature(f).parameters\n",
    "#         n = len( ps )\n",
    "#         if n == 2:\n",
    "#             setattr(CLASS, k, grammar_binop_to_varadic(CLASS, k))\n",
    "#         elif n == 1:\n",
    "#             if list(ps.items())[0][1].kind is inspect._ParameterKind.VAR_POSITIONAL: # is varadic?\n",
    "#                 setattr(CLASS, k, grammar_varop_to_varadic(CLASS, k))\n",
    "#             else:\n",
    "#                 setattr(CLASS, k, grammar_unop_to_varadic(CLASS, k))\n",
    "#         #setattr(CLASS, k, staticmethod(ltxargs(v.__func__)))\n",
    "\n",
    "class GrammarClass:\n",
    "    \"\"\"All grammar classes should have this as a metaclass.\"\"\"\n",
    "    __tad__: str\n",
    "\n",
    "    # ADT Functions should be:\n",
    "    # @staticmethod\n",
    "    # def f(params... : str) -> str: ...\n",
    "    \n",
    "    @classmethod\n",
    "    def latexify(cls, name: str, args: list[str], parent:None|str=None) -> str:\n",
    "        return getattr(cls, name)(name, args, parent)"
   ]
  },
  {
   "cell_type": "code",
   "execution_count": 11,
   "metadata": {},
   "outputs": [],
   "source": [
    "class secuencias:\n",
    "    \"\"\"Grammar for a sequence\"\"\"\n",
    "    tad = 'Secuencia'\n",
    "    @staticmethod\n",
    "    def prim(s): return r'\\text{prim}('+s+')'\n",
    "\n",
    "    @staticmethod\n",
    "    def esVacia(s): return r'\\text{vacía?}('+s+')'\n",
    "\n",
    "    @staticmethod\n",
    "    def fin(s): return r'\\text{fin}('+s+')'\n",
    "\n",
    "    @staticmethod\n",
    "    def vacia(): return r'\\langle\\rangle'\n",
    "\n",
    "    @staticmethod\n",
    "    def agregarAdelante(s, e): return e+r'\\text{ }\\bullet{}\\text{ }'+s\n",
    "\n",
    "    @staticmethod\n",
    "    def concatenar(s, t): return s+r'\\texttt{ \\& }'+t\n",
    "\n",
    "    @staticmethod\n",
    "    def com(s): return r'\\text{com}('+s+')'\n",
    "\n",
    "    @staticmethod\n",
    "    def esta(s, e): return r'\\text{está}?('+e+', '+s+')'\n",
    "\n",
    "    @staticmethod\n",
    "    def agregarAtras(s, e): return s+r'\\text{ }\\circ{}\\text{ }'+e\n",
    "\n",
    "    @staticmethod\n",
    "    def ult(s): return r'\\text{ult}('+s+')'\n",
    "\n",
    "    @staticmethod\n",
    "    def long(s): return r'\\text{long}('+s+')'\n",
    "\n",
    "    @staticmethod\n",
    "    def de(*xs): return r'\\left\\langle{}'+ ', '.join(xs) +r'\\right\\rangle{}'\n",
    "\n",
    "    @classmethod\n",
    "    def latexify(cls, name: str, args: list[str], parent:None|str=None) -> str:\n",
    "        return getattr(cls, name)(name, args, parent) # Internally this could be simplified to\n",
    "                                                      # (args, parent). So that class.method(args, parent)\n",
    "                                                      # is the same as class.latexify(methodname, args, parent)"
   ]
  },
  {
   "cell_type": "code",
   "execution_count": 12,
   "metadata": {},
   "outputs": [],
   "source": [
    "# TODO: Wrap this into... a wrapper\n",
    "for k,v in secuencias.__dict__.items():\n",
    "    if v and isinstance(v, staticmethod):\n",
    "        f = getattr(secuencias, k)\n",
    "        ps = inspect.signature(f).parameters\n",
    "        n = len( ps )\n",
    "        if n == 2:\n",
    "            rule = grammar_binop_to_varadic(secuencias, k)\n",
    "            setattr(secuencias, k, rule)\n",
    "        elif n == 1:\n",
    "            if list(ps.items())[0][1].kind is inspect._ParameterKind.VAR_POSITIONAL: # is varadic?\n",
    "                setattr(secuencias, k, grammar_varop_to_varadic(secuencias, k))\n",
    "            else:\n",
    "                setattr(secuencias, k, grammar_unop_to_varadic(secuencias, k))\n",
    "        #setattr(secuencias, k, staticmethod(ltxargs(v.__func__)))"
   ]
  },
  {
   "cell_type": "code",
   "execution_count": 13,
   "metadata": {},
   "outputs": [
    {
     "data": {
      "text/plain": [
       "(True, True)"
      ]
     },
     "execution_count": 13,
     "metadata": {},
     "output_type": "execute_result"
    }
   ],
   "source": [
    "secuencias.latexify('esVacia', [], '<abc>') == '\\\\text{vacía?}(<abc>)',\\\n",
    "secuencias.latexify('esVacia', '1', '<abc>') == '\\\\text{vacía?}(1)'"
   ]
  },
  {
   "cell_type": "code",
   "execution_count": 14,
   "metadata": {},
   "outputs": [
    {
     "data": {
      "text/latex": [
       "$\\displaystyle 4\\text{ }\\bullet{}\\text{ }3\\text{ }\\bullet{}\\text{ }2\\text{ }\\bullet{}\\text{ }1\\text{ }\\bullet{}\\text{ }\\left\\langle{}a, b, c\\right\\rangle{}$"
      ],
      "text/plain": [
       "<IPython.core.display.Math object>"
      ]
     },
     "metadata": {},
     "output_type": "display_data"
    }
   ],
   "source": [
    "displaymath(\n",
    "    secuencias.latexify('agregarAdelante', '1234', secuencias.latexify('de', ['a','b','c'], 'Secuencia'))\n",
    ")"
   ]
  },
  {
   "cell_type": "code",
   "execution_count": 15,
   "metadata": {},
   "outputs": [
    {
     "name": "stdout",
     "output_type": "stream",
     "text": [
      "4\\text{ }\\bullet{}\\text{ }3\\text{ }\\bullet{}\\text{ }2\\text{ }\\bullet{}\\text{ }1\\text{ }\\bullet{}\\text{ }\\left\\langle{}a, b, c\\right\\rangle{}\n"
     ]
    }
   ],
   "source": [
    "print(secuencias.latexify('agregarAdelante', '1234', secuencias.latexify('de', ['a','b','c'], 'Secuencia')))"
   ]
  },
  {
   "cell_type": "code",
   "execution_count": 16,
   "metadata": {},
   "outputs": [
    {
     "data": {
      "text/latex": [
       "$\\displaystyle 5\\text{ }\\bullet{}\\text{ }4\\text{ }\\bullet{}\\text{ }$"
      ],
      "text/plain": [
       "<IPython.core.display.Math object>"
      ]
     },
     "metadata": {},
     "output_type": "display_data"
    }
   ],
   "source": [
    "displaymath(\n",
    "    secuencias.latexify('agregarAdelante', [secuencias.de('3','2','1'),'4','5'], 'Secuencia')\n",
    ")"
   ]
  },
  {
   "cell_type": "code",
   "execution_count": 17,
   "metadata": {},
   "outputs": [
    {
     "data": {
      "text/latex": [
       "$\\displaystyle \\text{vacía?}(1)$"
      ],
      "text/plain": [
       "<IPython.core.display.Math object>"
      ]
     },
     "metadata": {},
     "output_type": "display_data"
    }
   ],
   "source": [
    "displaymath(\n",
    "secuencias.latexify('esVacia', '1', '<abc>')\n",
    ")"
   ]
  },
  {
   "cell_type": "code",
   "execution_count": 18,
   "metadata": {},
   "outputs": [
    {
     "data": {
      "text/plain": [
       "'1\\\\text{ }\\\\circ{}\\\\text{ }2'"
      ]
     },
     "execution_count": 18,
     "metadata": {},
     "output_type": "execute_result"
    }
   ],
   "source": [
    "secuencias.latexify('agregarAtras', [\"1\",\"2\"], 'Secuencia')"
   ]
  },
  {
   "cell_type": "code",
   "execution_count": 19,
   "metadata": {},
   "outputs": [
    {
     "data": {
      "text/plain": [
       "'\\\\text{ult}([1,2,3])'"
      ]
     },
     "execution_count": 19,
     "metadata": {},
     "output_type": "execute_result"
    }
   ],
   "source": [
    "secuencias.latexify('ult', '', '[1,2,3]')"
   ]
  },
  {
   "cell_type": "code",
   "execution_count": 20,
   "metadata": {},
   "outputs": [],
   "source": [
    "from functools import reduce\n",
    "from operator import truediv"
   ]
  },
  {
   "cell_type": "code",
   "execution_count": 21,
   "metadata": {},
   "outputs": [
    {
     "name": "stdout",
     "output_type": "stream",
     "text": [
      "\\signature{\\text{esVacia}}{Secuencia[T]}{bool}\\par\n",
      "\\signature{\\text{fin}}{Secuencia[T]}{Secuencia[T]}\\par\n",
      "\\signature{\\text{prim}}{Secuencia[T]}{T}\\par\n",
      "\\signature{\\text{vacia}}{Secuencia[T]}\\par\n",
      "\\signature{\\text{agregarAdelante}}{Secuencia[T]}{T}{Secuencia[T]}\\par\n",
      "\\signature{\\text{concatenar}}{Secuencia[T]}{Secuencia[T]}{Secuencia[T]}\\par\n",
      "\\signature{\\text{com}}{Secuencia[T]}{Secuencia[T]}\\par\n",
      "\\signature{\\text{esta}}{Secuencia[T]}{T}{bool}\\par\n",
      "\\signature{\\text{agregarAtras}}{Secuencia[T]}{T}{Secuencia[T]}\\par\n",
      "\\signature{\\text{ult}}{Secuencia[T]}{T}\\par\n",
      "\\signature{\\text{long}}{Secuencia[T]}{int}\\par\n",
      "\\signature{\\text{de}}{T $\\times\\dots\\times$ T}{Secuencia[T]}\\par\n"
     ]
    }
   ],
   "source": [
    "fs = flatten([list(v) for k,v in TAD_Secu.items()][:-1])\n",
    "lx_fs = [''] * len(fs)\n",
    "for i,multop in enumerate(fs):\n",
    "    lx_fs[i] = (signaturas.latexify(Funcion.from_callable(multop))+'\\par')\n",
    "\n",
    "for lxf in lx_fs:\n",
    "    print(lxf)"
   ]
  },
  {
   "cell_type": "code",
   "execution_count": 22,
   "metadata": {},
   "outputs": [],
   "source": [
    "traducir = {\n",
    "\"observers\": \"observadores\",\n",
    "\"generators\": \"generadores\",\n",
    "\"operations\": \"operaciones\"\n",
    "}"
   ]
  },
  {
   "cell_type": "code",
   "execution_count": 23,
   "metadata": {},
   "outputs": [
    {
     "name": "stdout",
     "output_type": "stream",
     "text": [
      "\\begin{tad}{Secuencia}\n",
      "\t\\begin{observadores}\n",
      "\t\t\\signature{\\text{esVacia}}{Secuencia[T]}{bool}\\par\n",
      "\t\t\\signature{\\text{fin}}{Secuencia[T]}{Secuencia[T]}\\par\n",
      "\t\t\\signature{\\text{prim}}{Secuencia[T]}{T}\\par\n",
      "\t\\end{observadores}\n",
      "\t\\begin{generadores}\n",
      "\t\t\\signature{\\text{vacia}}{Secuencia[T]}\\par\n",
      "\t\t\\signature{\\text{agregarAdelante}}{Secuencia[T]}{T}{Secuencia[T]}\\par\n",
      "\t\\end{generadores}\n",
      "\t\\begin{operaciones}\n",
      "\t\t\\signature{\\text{concatenar}}{Secuencia[T]}{Secuencia[T]}{Secuencia[T]}\\par\n",
      "\t\t\\signature{\\text{com}}{Secuencia[T]}{Secuencia[T]}\\par\n",
      "\t\t\\signature{\\text{esta}}{Secuencia[T]}{T}{bool}\\par\n",
      "\t\t\\signature{\\text{agregarAtras}}{Secuencia[T]}{T}{Secuencia[T]}\\par\n",
      "\t\t\\signature{\\text{ult}}{Secuencia[T]}{T}\\par\n",
      "\t\t\\signature{\\text{long}}{Secuencia[T]}{int}\\par\n",
      "\t\t\\signature{\\text{de}}{T $\\times\\dots\\times$ T}{Secuencia[T]}\\par\n",
      "\t\\end{operaciones}\n",
      "\\end{tad}\n"
     ]
    }
   ],
   "source": [
    "print(r'\\begin{tad}{'+secuencias.tad+'}')\n",
    "for k,v in TAD_Secu.items():\n",
    "    if k == 'axioms': continue # skip\n",
    "    print('\\t'+r'\\begin{'+traducir[k]+'}')\n",
    "    for f in v:\n",
    "        print('\\t\\t'+signaturas.latexify(Funcion.from_callable(f))+'\\par')\n",
    "    print('\\t'+r'\\end{'+traducir[k]+'}')\n",
    "print(r'\\end{tad}')"
   ]
  }
 ],
 "metadata": {
  "kernelspec": {
   "display_name": "Python 3",
   "language": "python",
   "name": "python3"
  },
  "language_info": {
   "codemirror_mode": {
    "name": "ipython",
    "version": 3
   },
   "file_extension": ".py",
   "mimetype": "text/x-python",
   "name": "python",
   "nbconvert_exporter": "python",
   "pygments_lexer": "ipython3",
   "version": "3.10.12"
  },
  "orig_nbformat": 4
 },
 "nbformat": 4,
 "nbformat_minor": 2
}
