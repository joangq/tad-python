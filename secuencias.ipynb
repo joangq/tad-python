{
 "cells": [
  {
   "cell_type": "code",
   "execution_count": 1,
   "metadata": {},
   "outputs": [],
   "source": [
    "from secuencia import Secuencia, secuencia\n",
    "from grammar import grammarOf\n",
    "from xpytex.utils import displaymath, displaymd\n",
    "def markdown_highlight(language: str, code: str):\n",
    "    displaymd('```'+language+'\\n'+code+'\\n```')"
   ]
  },
  {
   "cell_type": "code",
   "execution_count": 2,
   "metadata": {},
   "outputs": [],
   "source": [
    "@grammarOf(Secuencia)\n",
    "class secuencias:\n",
    "    \"\"\"Grammar for a sequence\"\"\"\n",
    "    @staticmethod\n",
    "    def prim(s): return r'\\text{prim}('+s+')'\n",
    "\n",
    "    @staticmethod\n",
    "    def esVacia(s): return r'\\text{vacía?}('+s+')'\n",
    "\n",
    "    @staticmethod\n",
    "    def fin(s): return r'\\text{fin}('+s+')'\n",
    "\n",
    "    @staticmethod\n",
    "    def vacia(): return r'\\langle\\rangle'\n",
    "\n",
    "    @staticmethod\n",
    "    def agregarAdelante(s, e): return e+r'\\text{ }\\bullet{}\\text{ }'+s\n",
    "\n",
    "    @staticmethod\n",
    "    def concatenar(s, t): return s+r'\\texttt{ \\& }'+t\n",
    "\n",
    "    @staticmethod\n",
    "    def com(s): return r'\\text{com}('+s+')'\n",
    "\n",
    "    @staticmethod\n",
    "    def esta(s, e): return r'\\text{está}?('+e+', '+s+')'\n",
    "\n",
    "    @staticmethod\n",
    "    def agregarAtras(s, e): return s+r'\\text{ }\\circ{}\\text{ }'+e\n",
    "\n",
    "    @staticmethod\n",
    "    def ult(s): return r'\\text{ult}('+s+')'\n",
    "\n",
    "    @staticmethod\n",
    "    def long(s): return r'\\text{long}('+s+')'\n",
    "\n",
    "    @staticmethod\n",
    "    def de(*xs): return r'\\left\\langle{}'+ ', '.join(xs) +r'\\right\\rangle{}'"
   ]
  },
  {
   "cell_type": "code",
   "execution_count": 3,
   "metadata": {},
   "outputs": [
    {
     "data": {
      "text/markdown": [
       "```latex\n",
       "\\begin{tad}{Secuencia}\n",
       "\t\\begin{observadores}\n",
       "\t\t\\signature{\\text{esVacia}}{Secuencia[T]}{bool}\\par\n",
       "\t\t\\signature{\\text{prim}}{Secuencia[T]}{T}\\par\n",
       "\t\t\\signature{\\text{fin}}{Secuencia[T]}{Secuencia[T]}\\par\n",
       "\t\\end{observadores}\n",
       "\t\\begin{generadores}\n",
       "\t\t\\signature{\\text{vacia}}{Secuencia[T]}\\par\n",
       "\t\t\\signature{\\text{agregarAdelante}}{Secuencia[T]}{T}{Secuencia[T]}\\par\n",
       "\t\\end{generadores}\n",
       "\t\\begin{operaciones}\n",
       "\t\t\\signature{\\text{ult}}{Secuencia[T]}{T}\\par\n",
       "\t\t\\signature{\\text{de}}{T $\\times\\dots\\times$ T}{Secuencia[T]}\\par\n",
       "\t\t\\signature{\\text{long}}{Secuencia[T]}{int}\\par\n",
       "\t\t\\signature{\\text{concatenar}}{Secuencia[T]}{Secuencia[T]}{Secuencia[T]}\\par\n",
       "\t\t\\signature{\\text{com}}{Secuencia[T]}{Secuencia[T]}\\par\n",
       "\t\t\\signature{\\text{agregarAtras}}{Secuencia[T]}{T}{Secuencia[T]}\\par\n",
       "\t\t\\signature{\\text{esta}}{Secuencia[T]}{T}{bool}\\par\n",
       "\t\\end{operaciones}\n",
       "\\end{tad}\\n\n",
       "```"
      ],
      "text/plain": [
       "<IPython.core.display.Markdown object>"
      ]
     },
     "metadata": {},
     "output_type": "display_data"
    }
   ],
   "source": [
    "markdown_highlight('latex', secuencias.as_latex())"
   ]
  },
  {
   "cell_type": "code",
   "execution_count": null,
   "metadata": {},
   "outputs": [],
   "source": [
    "displaymath(\n",
    "secuencias.rule_agregarAdelante('agregarAdelante', '1234', secuencias.rule_de('de', ['a','b','c'], 'Secuencia'))\n",
    ")"
   ]
  },
  {
   "cell_type": "code",
   "execution_count": null,
   "metadata": {},
   "outputs": [],
   "source": [
    "secuencia.agregarAdelante(secuencia.de(3,2,1).agregarAdelante(4).agregarAdelante(5), 6)"
   ]
  },
  {
   "cell_type": "code",
   "execution_count": null,
   "metadata": {},
   "outputs": [],
   "source": []
  }
 ],
 "metadata": {
  "kernelspec": {
   "display_name": "Python 3",
   "language": "python",
   "name": "python3"
  },
  "language_info": {
   "codemirror_mode": {
    "name": "ipython",
    "version": 3
   },
   "file_extension": ".py",
   "mimetype": "text/x-python",
   "name": "python",
   "nbconvert_exporter": "python",
   "pygments_lexer": "ipython3",
   "version": "3.10.12"
  },
  "orig_nbformat": 4
 },
 "nbformat": 4,
 "nbformat_minor": 2
}
